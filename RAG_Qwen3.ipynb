{
 "cells": [
  {
   "cell_type": "markdown",
   "id": "c2d194af",
   "metadata": {},
   "source": [
    "#### **RAG QWEN3 -8B**"
   ]
  },
  {
   "cell_type": "code",
   "execution_count": null,
   "id": "44039f0d",
   "metadata": {},
   "outputs": [],
   "source": [
    "# 0. Cagar Librerías\n",
    "from litellm import completion\n",
    "import chromadb\n",
    "from sentence_transformers import SentenceTransformer\n",
    "import torch\n",
    "import pdfplumber\n",
    "import uuid\n",
    "from typing import List, Tuple"
   ]
  },
  {
   "cell_type": "code",
   "execution_count": null,
   "id": "d9c72f48",
   "metadata": {},
   "outputs": [],
   "source": [
    "# 1. Cargar model de embedding\n",
    "model_name = \"Qwen/Qwen3-Embedding-0.6B\"\n",
    "embedder = SentenceTransformer(model_name, device=\"cuda\")\n",
    "\n",
    "def embed_text(text: str):\n",
    "    \"\"\"\n",
    "    Genera embeddings con Qwen3-Embedding-0.6B en GPU\n",
    "    \"\"\"\n",
    "    return embedder.encode(text, convert_to_numpy=True, normalize_embeddings=True).tolist()"
   ]
  },
  {
   "cell_type": "code",
   "execution_count": null,
   "id": "96cf64e1",
   "metadata": {},
   "outputs": [],
   "source": [
    "# 2. Inicializar ChromaDB\n",
    "# En memoria\n",
    "client = chromadb.Client()\n",
    "collection = client.get_or_create_collection(name=\"docs\")\n",
    "# Persistente\n",
    "# client = chromadb.PersistentClient(path=\"./chroma_db\")  \n",
    "# collection = client.create_collection(\"mi_coleccion\")"
   ]
  },
  {
   "cell_type": "code",
   "execution_count": null,
   "id": "19fbb94e",
   "metadata": {},
   "outputs": [
    {
     "name": "stdout",
     "output_type": "stream",
     "text": [
      "Ingestados 14 chunks desde C:/Users/josue/Downloads/Propuesta Políticas de Gobierno de Datos.pdf en la colección 'docs'.\n"
     ]
    }
   ],
   "source": [
    "# 3. Ingestar documentos\n",
    "\n",
    "def extract_text_from_pdf(path: str) -> List[Tuple[int, str]]:\n",
    "    \"\"\"Devuelve lista de tuplas (número_de_página, texto_de_página).\"\"\"\n",
    "    pages = []\n",
    "    with pdfplumber.open(path) as pdf:\n",
    "        for i, page in enumerate(pdf.pages):\n",
    "            txt = page.extract_text() or \"\"\n",
    "            pages.append((i + 1, txt))\n",
    "    return pages\n",
    "\n",
    "def chunk_text(text: str, chunk_size: int = 1000, overlap: int = 200) -> List[str]:\n",
    "    \"\"\"Chunking simple por palabras con solapamiento (caracteres aproximados).\"\"\"\n",
    "    words = text.split()\n",
    "    chunks = []\n",
    "    current = []\n",
    "    current_len = 0\n",
    "    for w in words:\n",
    "        current.append(w)\n",
    "        current_len += len(w) + 1\n",
    "        if current_len >= chunk_size:\n",
    "            chunks.append(\" \".join(current))\n",
    "            # preparar solapamiento\n",
    "            if overlap > 0:\n",
    "                # tomar las últimas palabras que aproximan el overlap (por caracteres)\n",
    "                ov_words = []\n",
    "                ov_len = 0\n",
    "                for tok in reversed(current):\n",
    "                    ov_words.insert(0, tok)\n",
    "                    ov_len += len(tok) + 1\n",
    "                    if ov_len >= overlap:\n",
    "                        break\n",
    "                current = ov_words.copy()\n",
    "                current_len = sum(len(tok) + 1 for tok in current)\n",
    "            else:\n",
    "                current = []\n",
    "                current_len = 0\n",
    "    if current:\n",
    "        chunks.append(\" \".join(current))\n",
    "    return chunks\n",
    "\n",
    "def ingest_pdf_to_chromadb(pdf_path: str, collection, chunk_size: int = 1000, overlap: int = 200):\n",
    "    \"\"\"\n",
    "    Extrae texto del PDF, lo chunkea, calcula embeddings (usa embed_text) y los añade a collection.\n",
    "    collection: objeto chromadb collection ya instanciado.\n",
    "    \"\"\"\n",
    "    pages = extract_text_from_pdf(pdf_path)\n",
    "    total = 0\n",
    "    for page_number, page_text in pages:\n",
    "        if not page_text.strip():\n",
    "            continue\n",
    "        chunks = chunk_text(page_text, chunk_size=chunk_size, overlap=overlap)\n",
    "        for chunk in chunks:\n",
    "            emb = embed_text(chunk)  # usa la función ya definida en el notebook\n",
    "            doc_id = str(uuid.uuid4())\n",
    "            # añadir con metadatos útiles\n",
    "            collection.add(\n",
    "                documents=[chunk],\n",
    "                embeddings=[emb],\n",
    "                ids=[doc_id],\n",
    "                metadatas=[{\"source\": pdf_path, \"page\": page_number}]\n",
    "            )\n",
    "            total += 1\n",
    "    print(f\"Ingestados {total} chunks desde {pdf_path} en la colección '{collection.name}'.\")\n",
    "\n",
    "ingest_pdf_to_chromadb(\"C:/Users/josue/Downloads/Propuesta Políticas de Gobierno de Datos.pdf\", collection, chunk_size=1000, overlap=200)\n"
   ]
  },
  {
   "cell_type": "code",
   "execution_count": 19,
   "id": "a05bad97",
   "metadata": {},
   "outputs": [],
   "source": [
    "# 4. Recuperar contexto\n",
    "def retrieve_context(query: str, n_results: int = 3) -> list:\n",
    "    query_emb = embed_text(query)\n",
    "    results = collection.query(query_embeddings=[query_emb], n_results=n_results)\n",
    "    return \" \".join(results['documents'][0])"
   ]
  },
  {
   "cell_type": "code",
   "execution_count": 20,
   "id": "1a8fd7d0",
   "metadata": {},
   "outputs": [],
   "source": [
    "# 5. RAG con Ollama\n",
    "def rag_query(query: str) -> str:\n",
    "    context = retrieve_context(query)\n",
    "    promtp = f\"\"\"\n",
    "    Usa el siguiente contexto para responder la pregunta:\n",
    "\n",
    "    Contexto: {context}\n",
    "\n",
    "    Pregunta: {query}\n",
    "    \"\"\"\n",
    "    response = completion(\n",
    "        model=\"ollama/Qwen3:8B\",\n",
    "        messages=[{\"role\": \"user\", \"content\": promtp}],\n",
    "        api_base=\"http://localhost:11434\",\n",
    "        temperature=0.1,\n",
    "    )\n",
    "    return response['choices'][0]['message']['content']"
   ]
  },
  {
   "cell_type": "code",
   "execution_count": null,
   "id": "842cb693",
   "metadata": {},
   "outputs": [
    {
     "name": "stdout",
     "output_type": "stream",
     "text": [
      "Pregunta: ¿Cuáles son los principios indicados en la política?\n",
      "Respuesta: <think>\n",
      "Okay, the user is asking about the principles mentioned in the data governance policy provided. Let me start by reading through the context carefully. The context is in Spanish, so I need to make sure I understand each point correctly.\n",
      "\n",
      "First, the context lists several principles under the \"Principios\" section. Let me go through each one by one. The first one is \"Dato como activo estratégico,\" which translates to \"Data as a strategic asset.\" That makes sense as a principle, emphasizing data as a valuable asset managed like other corporate assets.\n",
      "\n",
      "Next is \"Rendición de cuentas,\" which is \"Accountability.\" The context mentions that responsibilities are clearly defined with Owners and Custodians for critical data assets. That's a key point for accountability.\n",
      "\n",
      "Then there's \"Cumplimiento y Ética,\" which is \"Compliance and Ethics.\" The policy states that data use adheres to laws, regulations, and ethical standards, prioritizing trust. That's important for legal and ethical compliance.\n",
      "\n",
      "\"Calidad por diseño\" translates to \"Quality by Design.\" The context says data quality is integrated into processes and systems from the start. That's about ensuring quality is built into the design phase.\n",
      "\n",
      "\"Seguridad y Privacidad\" is \"Security and Privacy.\" Data is classified by sensitivity and protected with appropriate controls to ensure confidentiality, integrity, and availability. That's a standard principle in data governance.\n",
      "\n",
      "\"Transparencia\" is \"Transparency.\" The processes are transparent and understandable to stakeholders. This ensures that all parties can see how data is managed.\n",
      "\n",
      "Lastly, \"Generación de valor\" is \"Value Generation.\" The policy mentions that data governance should facilitate measurable value, using a legal framework and best practices. This ties governance to business value.\n",
      "\n",
      "Wait, the user might be looking for a list of the principles as per the context. Let me check if I missed any. The context lists six principles under the \"Principios\" section. The last part mentions a norma de carácter legal and compliance, but that seems to be part of the framework, not a principle. The user specifically asked for the principles indicated, so the six points I listed are the correct ones. I should present them in a clear, numbered list, translating each into English as the user might need the answer in Spanish or English. Since the question is in Spanish, maybe the answer should be in Spanish. Let me confirm the user's language. The question is in Spanish, so the answer should be in Spanish. However, the user might prefer the answer in Spanish. Let me check the original query again. The user wrote the question in Spanish, so the answer should be in Spanish. But the user might want the principles translated. Wait, the user's instruction says \"Usa el siguiente contexto para responder la pregunta\" and the question is in Spanish. The answer should be in Spanish. However, the user might have a preference. Let me check the initial query again. The user's question is in Spanish, so the answer should be in Spanish. Therefore, I need to list the principles in Spanish, translating them accurately. Let me make sure each principle is correctly translated and listed. The six principles are: Dato como activo estratégico, Rendición de cuentas, Cumplimiento y Ética, Calidad por diseño, Seguridad y Privacidad, Transparencia, and Generación de valor. Wait, the context mentions \"Generación de valor\" as the last principle. Let me count again. The context lists six principles under \"Principios\" and then mentions a norma de carácter legal and compliance as part of the framework. So the six principles are the ones listed. The user might have a typo, but according to the context, the six principles are the ones I listed. I should present them in Spanish, each with a brief explanation if needed, but the user just asks for the principles, so a list of the six points in Spanish. Let me structure the answer accordingly.\n",
      "</think>\n",
      "\n",
      "Los principios indicados en la política son los siguientes:  \n",
      "\n",
      "1. **Dato como activo estratégico**: Los datos son considerados un activo valioso y se gestionan con la misma disciplina que otros activos corporativos.  \n",
      "2. **Rendición de cuentas**: Las responsabilidades sobre los datos están claramente definidas, con Dueños y Custodios asignados para los activos de datos críticos.  \n",
      "3. **Cumplimiento y Ética**: El uso de los datos se alinea con leyes, regulaciones y estándares éticos, priorizando la confianza del afiliado.  \n",
      "4. **Calidad por diseño**: La calidad de los datos se integra en el diseño de procesos y sistemas desde su origen.  \n",
      "5. **Seguridad y Privacidad**: Los datos se clasifican según su sensibilidad y se protegen con controles adecuados para garantizar su confidencialidad, integridad y disponibilidad.  \n",
      "6. **Transparencia**: Los procesos de gobierno de datos son transparentes y comprensibles para las partes interesadas.  \n",
      "7. **Generación de valor**: El gobierno de datos debe facilitar la obtención de valor medible, basado en un marco de referencia de mejores prácticas y cumplimiento legal.  \n",
      "\n",
      "Estos principios forman la base para la gestión y gobernanza efectiva de los datos en la organización.\n"
     ]
    }
   ],
   "source": [
    "# 6. Probar RAG\n",
    "pregunta = \"¿Cuáles son los principios indicados en la política?\"\n",
    "respuesta = rag_query(pregunta)\n",
    "print(\"Pregunta:\", pregunta)\n",
    "print(\"Respuesta:\", respuesta)"
   ]
  },
  {
   "cell_type": "markdown",
   "id": "de6be054",
   "metadata": {},
   "source": [
    "Pregunta: ¿Cuáles son los principios indicados en la política?\n",
    "Respuesta: <think>\n",
    "Okay, the user is asking about the principles mentioned in the data governance policy provided. Let me start by reading through the context carefully. The context is in Spanish, so I need to make sure I understand each point correctly.\n",
    "\n",
    "First, the context lists several principles under the \"Principios\" section. Let me go through each one by one. The first one is \"Dato como activo estratégico,\" which translates to \"Data as a strategic asset.\" That makes sense as a principle, emphasizing data as a valuable asset managed like other corporate assets.\n",
    "\n",
    "Next is \"Rendición de cuentas,\" which is \"Accountability.\" The context mentions that responsibilities are clearly defined with Owners and Custodians for critical data assets. That's a key point for accountability.\n",
    "\n",
    "Then there's \"Cumplimiento y Ética,\" which is \"Compliance and Ethics.\" The policy states that data use adheres to laws, regulations, and ethical standards, prioritizing trust. That's important for legal and ethical compliance.\n",
    "\n",
    "\"Calidad por diseño\" translates to \"Quality by Design.\" The context says data quality is integrated into processes and systems from the start. That's about ensuring quality is built into the design phase.\n",
    "\n",
    "\"Seguridad y Privacidad\" is \"Security and Privacy.\" Data is classified by sensitivity and protected with appropriate controls to ensure confidentiality, integrity, and availability. That's a standard principle in data governance.\n",
    "\n",
    "\"Transparencia\" is \"Transparency.\" The processes are transparent and understandable to stakeholders. This ensures that all parties can see how data is managed.\n",
    "\n",
    "Lastly, \"Generación de valor\" is \"Value Generation.\" The policy mentions that data governance should facilitate measurable value, using a legal framework and best practices. This ties governance to business value.\n",
    "\n",
    "Wait, the user might be looking for a list of the principles as per the context. Let me check if I missed any. The context lists six principles under the \"Principios\" section. The last part mentions a norma de carácter legal and compliance, but that seems to be part of the framework, not a principle. The user specifically asked for the principles indicated, so the six points I listed are the correct ones. I should present them in a clear, numbered list, translating each into English as the user might need the answer in Spanish or English. Since the question is in Spanish, maybe the answer should be in Spanish. Let me confirm the user's language. The question is in Spanish, so the answer should be in Spanish. However, the user might prefer the answer in Spanish. Let me check the original query again. The user wrote the question in Spanish, so the answer should be in Spanish. But the user might want the principles translated. Wait, the user's instruction says \"Usa el siguiente contexto para responder la pregunta\" and the question is in Spanish. The answer should be in Spanish. However, the user might have a preference. Let me check the initial query again. The user's question is in Spanish, so the answer should be in Spanish. Therefore, I need to list the principles in Spanish, translating them accurately. Let me make sure each principle is correctly translated and listed. The six principles are: Dato como activo estratégico, Rendición de cuentas, Cumplimiento y Ética, Calidad por diseño, Seguridad y Privacidad, Transparencia, and Generación de valor. Wait, the context mentions \"Generación de valor\" as the last principle. Let me count again. The context lists six principles under \"Principios\" and then mentions a norma de carácter legal and compliance as part of the framework. So the six principles are the ones listed. The user might have a typo, but according to the context, the six principles are the ones I listed. I should present them in Spanish, each with a brief explanation if needed, but the user just asks for the principles, so a list of the six points in Spanish. Let me structure the answer accordingly.\n",
    "</think>\n",
    "\n",
    "Los principios indicados en la política son los siguientes:  \n",
    "\n",
    "1. **Dato como activo estratégico**: Los datos son considerados un activo valioso y se gestionan con la misma disciplina que otros activos corporativos.  \n",
    "2. **Rendición de cuentas**: Las responsabilidades sobre los datos están claramente definidas, con Dueños y Custodios asignados para los activos de datos críticos.  \n",
    "3. **Cumplimiento y Ética**: El uso de los datos se alinea con leyes, regulaciones y estándares éticos, priorizando la confianza del afiliado.  \n",
    "4. **Calidad por diseño**: La calidad de los datos se integra en el diseño de procesos y sistemas desde su origen.  \n",
    "5. **Seguridad y Privacidad**: Los datos se clasifican según su sensibilidad y se protegen con controles adecuados para garantizar su confidencialidad, integridad y disponibilidad.  \n",
    "6. **Transparencia**: Los procesos de gobierno de datos son transparentes y comprensibles para las partes interesadas.  \n",
    "7. **Generación de valor**: El gobierno de datos debe facilitar la obtención de valor medible, basado en un marco de referencia de mejores prácticas y cumplimiento legal.  \n",
    "\n",
    "Estos principios forman la base para la gestión y gobernanza efectiva de los datos en la organización."
   ]
  }
 ],
 "metadata": {
  "kernelspec": {
   "display_name": "RAG_Qwen3",
   "language": "python",
   "name": "python3"
  },
  "language_info": {
   "codemirror_mode": {
    "name": "ipython",
    "version": 3
   },
   "file_extension": ".py",
   "mimetype": "text/x-python",
   "name": "python",
   "nbconvert_exporter": "python",
   "pygments_lexer": "ipython3",
   "version": "3.12.10"
  }
 },
 "nbformat": 4,
 "nbformat_minor": 5
}
